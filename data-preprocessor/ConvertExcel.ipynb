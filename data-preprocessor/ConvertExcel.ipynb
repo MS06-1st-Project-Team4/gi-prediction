{
 "cells": [
  {
   "cell_type": "markdown",
   "metadata": {},
   "source": [
    "# 필요한 라이브러리 패키지 설치"
   ]
  },
  {
   "cell_type": "code",
   "execution_count": 1,
   "metadata": {},
   "outputs": [
    {
     "name": "stdout",
     "output_type": "stream",
     "text": [
      "Requirement already satisfied: pandas in d:\\study\\ms ai school\\projects\\gi-prediction\\data-preprocessor\\.venv\\lib\\site-packages (2.2.3)\n",
      "Requirement already satisfied: numpy>=1.26.0 in d:\\study\\ms ai school\\projects\\gi-prediction\\data-preprocessor\\.venv\\lib\\site-packages (from pandas) (2.2.3)\n",
      "Requirement already satisfied: python-dateutil>=2.8.2 in d:\\study\\ms ai school\\projects\\gi-prediction\\data-preprocessor\\.venv\\lib\\site-packages (from pandas) (2.9.0.post0)\n",
      "Requirement already satisfied: pytz>=2020.1 in d:\\study\\ms ai school\\projects\\gi-prediction\\data-preprocessor\\.venv\\lib\\site-packages (from pandas) (2025.1)\n",
      "Requirement already satisfied: tzdata>=2022.7 in d:\\study\\ms ai school\\projects\\gi-prediction\\data-preprocessor\\.venv\\lib\\site-packages (from pandas) (2025.1)\n",
      "Requirement already satisfied: six>=1.5 in d:\\study\\ms ai school\\projects\\gi-prediction\\data-preprocessor\\.venv\\lib\\site-packages (from python-dateutil>=2.8.2->pandas) (1.17.0)\n",
      "Note: you may need to restart the kernel to use updated packages.\n",
      "Requirement already satisfied: openpyxl in d:\\study\\ms ai school\\projects\\gi-prediction\\data-preprocessor\\.venv\\lib\\site-packages (3.1.5)\n",
      "Requirement already satisfied: et-xmlfile in d:\\study\\ms ai school\\projects\\gi-prediction\\data-preprocessor\\.venv\\lib\\site-packages (from openpyxl) (2.0.0)\n",
      "Note: you may need to restart the kernel to use updated packages.\n"
     ]
    }
   ],
   "source": [
    "%pip install pandas\n",
    "%pip install openpyxl"
   ]
  },
  {
   "cell_type": "code",
   "execution_count": 2,
   "metadata": {},
   "outputs": [],
   "source": [
    "import os\n",
    "import pandas as pd"
   ]
  },
  {
   "cell_type": "code",
   "execution_count": 3,
   "metadata": {},
   "outputs": [],
   "source": [
    "data_directory = './data'\n",
    "input_file_name = 'food_data_calibrated 4.xlsx'\n",
    "output_file_name = 'food_data_calibrated 4.csv'"
   ]
  },
  {
   "cell_type": "code",
   "execution_count": 4,
   "metadata": {},
   "outputs": [],
   "source": [
    "# data 디렉토리가 없으면 생성한다.\n",
    "if not os.path.exists(data_directory):\n",
    "    os.makedirs(data_directory)"
   ]
  },
  {
   "cell_type": "markdown",
   "metadata": {},
   "source": [
    "# 먼저 다운로드 받은 엑셀파일을 data 디렉토리에 넣는다."
   ]
  },
  {
   "cell_type": "code",
   "execution_count": 5,
   "metadata": {},
   "outputs": [
    {
     "data": {
      "text/html": [
       "<div>\n",
       "<style scoped>\n",
       "    .dataframe tbody tr th:only-of-type {\n",
       "        vertical-align: middle;\n",
       "    }\n",
       "\n",
       "    .dataframe tbody tr th {\n",
       "        vertical-align: top;\n",
       "    }\n",
       "\n",
       "    .dataframe thead th {\n",
       "        text-align: right;\n",
       "    }\n",
       "</style>\n",
       "<table border=\"1\" class=\"dataframe\">\n",
       "  <thead>\n",
       "    <tr style=\"text-align: right;\">\n",
       "      <th></th>\n",
       "      <th>NO</th>\n",
       "      <th>name</th>\n",
       "      <th>calory</th>\n",
       "      <th>proteins</th>\n",
       "      <th>fats</th>\n",
       "      <th>carbohydrates</th>\n",
       "      <th>monosaccharide</th>\n",
       "      <th>GI_Class</th>\n",
       "      <th>category</th>\n",
       "      <th>dietary_fiber</th>\n",
       "    </tr>\n",
       "  </thead>\n",
       "  <tbody>\n",
       "    <tr>\n",
       "      <th>0</th>\n",
       "      <td>1</td>\n",
       "      <td>닭갈비</td>\n",
       "      <td>148.90</td>\n",
       "      <td>11.48</td>\n",
       "      <td>6.45</td>\n",
       "      <td>11.22</td>\n",
       "      <td>5.3</td>\n",
       "      <td>0</td>\n",
       "      <td>Meat</td>\n",
       "      <td>0.7</td>\n",
       "    </tr>\n",
       "    <tr>\n",
       "      <th>1</th>\n",
       "      <td>2</td>\n",
       "      <td>훈제오리</td>\n",
       "      <td>318.86</td>\n",
       "      <td>17.22</td>\n",
       "      <td>25.63</td>\n",
       "      <td>4.83</td>\n",
       "      <td>0.11</td>\n",
       "      <td>1</td>\n",
       "      <td>Meat</td>\n",
       "      <td>0.0</td>\n",
       "    </tr>\n",
       "    <tr>\n",
       "      <th>2</th>\n",
       "      <td>3</td>\n",
       "      <td>김치국</td>\n",
       "      <td>19.78</td>\n",
       "      <td>1.2</td>\n",
       "      <td>0.62</td>\n",
       "      <td>2.33</td>\n",
       "      <td>0.64</td>\n",
       "      <td>0</td>\n",
       "      <td>Soup</td>\n",
       "      <td>1.2</td>\n",
       "    </tr>\n",
       "  </tbody>\n",
       "</table>\n",
       "</div>"
      ],
      "text/plain": [
       "   NO  name  calory proteins   fats carbohydrates monosaccharide  GI_Class  \\\n",
       "0   1   닭갈비  148.90    11.48   6.45         11.22            5.3         0   \n",
       "1   2  훈제오리  318.86    17.22  25.63          4.83           0.11         1   \n",
       "2   3   김치국   19.78      1.2   0.62          2.33           0.64         0   \n",
       "\n",
       "  category  dietary_fiber  \n",
       "0     Meat            0.7  \n",
       "1     Meat            0.0  \n",
       "2     Soup            1.2  "
      ]
     },
     "execution_count": 5,
     "metadata": {},
     "output_type": "execute_result"
    }
   ],
   "source": [
    "excel_file = os.path.join(data_directory, input_file_name)\n",
    "df = pd.read_excel(io=excel_file, sheet_name='Sheet1')\n",
    "df.head(3)"
   ]
  },
  {
   "cell_type": "markdown",
   "metadata": {},
   "source": [
    "# category 컬럼을 소문자로 변경"
   ]
  },
  {
   "cell_type": "code",
   "execution_count": 9,
   "metadata": {},
   "outputs": [
    {
     "data": {
      "text/plain": [
       "0               meat\n",
       "1               meat\n",
       "2               soup\n",
       "3               soup\n",
       "4            dessert\n",
       "           ...      \n",
       "154            spice\n",
       "155    grain product\n",
       "156             meat\n",
       "157          seafood\n",
       "158          seafood\n",
       "Name: category, Length: 159, dtype: object"
      ]
     },
     "execution_count": 9,
     "metadata": {},
     "output_type": "execute_result"
    }
   ],
   "source": [
    "df['category'].str.lower()"
   ]
  },
  {
   "cell_type": "code",
   "execution_count": 10,
   "metadata": {},
   "outputs": [],
   "source": [
    "df['category'] = df['category'].str.lower()"
   ]
  },
  {
   "cell_type": "code",
   "execution_count": 11,
   "metadata": {},
   "outputs": [
    {
     "data": {
      "text/html": [
       "<div>\n",
       "<style scoped>\n",
       "    .dataframe tbody tr th:only-of-type {\n",
       "        vertical-align: middle;\n",
       "    }\n",
       "\n",
       "    .dataframe tbody tr th {\n",
       "        vertical-align: top;\n",
       "    }\n",
       "\n",
       "    .dataframe thead th {\n",
       "        text-align: right;\n",
       "    }\n",
       "</style>\n",
       "<table border=\"1\" class=\"dataframe\">\n",
       "  <thead>\n",
       "    <tr style=\"text-align: right;\">\n",
       "      <th></th>\n",
       "      <th>NO</th>\n",
       "      <th>name</th>\n",
       "      <th>calory</th>\n",
       "      <th>proteins</th>\n",
       "      <th>fats</th>\n",
       "      <th>carbohydrates</th>\n",
       "      <th>monosaccharide</th>\n",
       "      <th>GI_Class</th>\n",
       "      <th>category</th>\n",
       "      <th>dietary_fiber</th>\n",
       "    </tr>\n",
       "  </thead>\n",
       "  <tbody>\n",
       "    <tr>\n",
       "      <th>0</th>\n",
       "      <td>1</td>\n",
       "      <td>닭갈비</td>\n",
       "      <td>148.90</td>\n",
       "      <td>11.48</td>\n",
       "      <td>6.45</td>\n",
       "      <td>11.22</td>\n",
       "      <td>5.3</td>\n",
       "      <td>0</td>\n",
       "      <td>meat</td>\n",
       "      <td>0.7</td>\n",
       "    </tr>\n",
       "    <tr>\n",
       "      <th>1</th>\n",
       "      <td>2</td>\n",
       "      <td>훈제오리</td>\n",
       "      <td>318.86</td>\n",
       "      <td>17.22</td>\n",
       "      <td>25.63</td>\n",
       "      <td>4.83</td>\n",
       "      <td>0.11</td>\n",
       "      <td>1</td>\n",
       "      <td>meat</td>\n",
       "      <td>0.0</td>\n",
       "    </tr>\n",
       "    <tr>\n",
       "      <th>2</th>\n",
       "      <td>3</td>\n",
       "      <td>김치국</td>\n",
       "      <td>19.78</td>\n",
       "      <td>1.2</td>\n",
       "      <td>0.62</td>\n",
       "      <td>2.33</td>\n",
       "      <td>0.64</td>\n",
       "      <td>0</td>\n",
       "      <td>soup</td>\n",
       "      <td>1.2</td>\n",
       "    </tr>\n",
       "  </tbody>\n",
       "</table>\n",
       "</div>"
      ],
      "text/plain": [
       "   NO  name  calory proteins   fats carbohydrates monosaccharide  GI_Class  \\\n",
       "0   1   닭갈비  148.90    11.48   6.45         11.22            5.3         0   \n",
       "1   2  훈제오리  318.86    17.22  25.63          4.83           0.11         1   \n",
       "2   3   김치국   19.78      1.2   0.62          2.33           0.64         0   \n",
       "\n",
       "  category  dietary_fiber  \n",
       "0     meat            0.7  \n",
       "1     meat            0.0  \n",
       "2     soup            1.2  "
      ]
     },
     "execution_count": 11,
     "metadata": {},
     "output_type": "execute_result"
    }
   ],
   "source": [
    "df.head(3)"
   ]
  },
  {
   "cell_type": "markdown",
   "metadata": {},
   "source": [
    "# csv 파일로 저장한다."
   ]
  },
  {
   "cell_type": "code",
   "execution_count": 12,
   "metadata": {},
   "outputs": [],
   "source": [
    "df.to_csv(os.path.join(data_directory, output_file_name), encoding='utf-8', index=False)"
   ]
  },
  {
   "cell_type": "code",
   "execution_count": null,
   "metadata": {},
   "outputs": [],
   "source": [
    "# GL_Class 컬럼은 v2 엔드포인트에서 사용하지 않으므로 없어도 되지만\n",
    "# v1 엔드포인트에서 여전히 사용하기 때문에 일단 남겨둔다.\n",
    "# Gradio UI 에서 v2 엔드포인트를 쓸 경우엔 GI_Class 는 사용하지 않는다."
   ]
  }
 ],
 "metadata": {
  "kernelspec": {
   "display_name": ".venv",
   "language": "python",
   "name": "python3"
  },
  "language_info": {
   "codemirror_mode": {
    "name": "ipython",
    "version": 3
   },
   "file_extension": ".py",
   "mimetype": "text/x-python",
   "name": "python",
   "nbconvert_exporter": "python",
   "pygments_lexer": "ipython3",
   "version": "3.13.2"
  }
 },
 "nbformat": 4,
 "nbformat_minor": 2
}
