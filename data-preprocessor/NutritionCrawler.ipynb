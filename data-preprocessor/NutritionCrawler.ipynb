{
 "cells": [
  {
   "cell_type": "markdown",
   "metadata": {},
   "source": [
    "# 크롬 웹드라이버 클래스 import"
   ]
  },
  {
   "cell_type": "code",
   "execution_count": 14,
   "metadata": {},
   "outputs": [],
   "source": [
    "from selenium.webdriver import Chrome\n",
    "from selenium.webdriver.common.by import By\n",
    "import pandas as pd\n",
    "import re\n",
    "import traceback\n",
    "import time\n",
    "import os.path\n",
    "import copy"
   ]
  },
  {
   "cell_type": "code",
   "execution_count": 15,
   "metadata": {},
   "outputs": [],
   "source": [
    "# data 디렉토리가 없으면 생성한다.\n",
    "if not os.path.exists('./data'):\n",
    "    os.makedirs('./data')"
   ]
  },
  {
   "cell_type": "markdown",
   "metadata": {},
   "source": [
    "# 크롬 웹드라이버 객체 생성"
   ]
  },
  {
   "cell_type": "code",
   "execution_count": 16,
   "metadata": {},
   "outputs": [],
   "source": [
    "driver = Chrome()"
   ]
  },
  {
   "cell_type": "markdown",
   "metadata": {},
   "source": [
    "# 웹페이지 열고 이동하기"
   ]
  },
  {
   "cell_type": "code",
   "execution_count": null,
   "metadata": {},
   "outputs": [],
   "source": [
    "food_list = []\n",
    "food_file_path = './data/FoodList.csv'\n",
    "\n",
    "if not os.path.exists(food_file_path):\n",
    "    # FoodList.csv 파일이 없으면 웹페이지를 가져와서 생성한다.\n",
    "\n",
    "    url = '여기를 URL 로 채우세요'\n",
    "    driver.get(url)\n",
    "\n",
    "    # 웹페이지에서 모든 음식 목록과 해당 링크를 가져온다.\n",
    "\n",
    "    # tftable 클래스 하위 tbody 요소 내의 모든 tr 요소 찾기\n",
    "    tr_elements = driver.find_elements(By.CSS_SELECTOR, '.tftable>tbody>tr')\n",
    "\n",
    "    tr_idx = 0\n",
    "    for tr_element in tr_elements:\n",
    "        td_elements = tr_element.find_elements(By.TAG_NAME, 'td')\n",
    "        \n",
    "        if len(td_elements) > 0:\n",
    "            tr_idx += 1\n",
    "\n",
    "            td_element = td_elements[1]\n",
    "            food_name = td_element.text\n",
    "            page_link = td_element.find_element(By.TAG_NAME, 'a').get_attribute('href')\n",
    "            food_list.append([tr_idx, food_name, page_link])\n",
    "\n",
    "    # FoodList.csv 에 저장한다.\n",
    "\n",
    "    df1 = pd.DataFrame(food_list, columns=['idx', 'name', 'link'])\n",
    "    df1.head(5)\n",
    "    df1.to_csv(food_file_path, encoding='utf-8', index=False)\n",
    "else:\n",
    "    # FoodList.csv 파일이 있으면 파일에서 가져온다.\n",
    "    df1 = pd.read_csv(food_file_path)\n",
    "    food_list = df1.values.tolist()"
   ]
  },
  {
   "cell_type": "markdown",
   "metadata": {},
   "source": [
    "# 필요한 정보 추출 함수"
   ]
  },
  {
   "cell_type": "code",
   "execution_count": 21,
   "metadata": {},
   "outputs": [],
   "source": [
    "def find_gi_from_page_type1(dict, text):\n",
    "    if text.find('(GI)') != -1:\n",
    "        match1 = re.findall(r'\\s+to\\s+\\d*\\.?\\d+,', text)\n",
    "        match2 = re.findall(r'\\d*\\.?\\d+', match1[0]) # r'-?\\d*\\.?\\d+'\n",
    "        gi = match2[0]\n",
    "        dict['GI'] = gi\n",
    "        return gi\n",
    "    else:\n",
    "        return None"
   ]
  },
  {
   "cell_type": "code",
   "execution_count": 22,
   "metadata": {},
   "outputs": [],
   "source": [
    "def find_gl_from_page_type1(dict, text):\n",
    "    if text.find('(GL)') != -1:\n",
    "        match3 = re.findall(r'\\s+to\\s+\\d*\\.?\\d+,', text)\n",
    "        match4 = re.findall(r'\\d*\\.?\\d+', match3[0]) # r'-?\\d*\\.?\\d+'\n",
    "        gl = match4[0]\n",
    "        dict['GL'] = gl\n",
    "        return gl\n",
    "    else:\n",
    "        return None"
   ]
  },
  {
   "cell_type": "code",
   "execution_count": 23,
   "metadata": {},
   "outputs": [],
   "source": [
    "def find_nutrition_from_page_type1(dict, text):\n",
    "    if (text.find('(GI)') == -1) and (text.find('(GL)') == -1):\n",
    "        match5 = re.findall(r'\\s+\\d*\\.?\\d+\\s+kcal', text) # r'\\s+-?\\d*\\.?\\d+\\s+kcal'\n",
    "        match6 = re.findall(r'\\d*\\.?\\d+', match5[0]) # r'-?\\d*\\.?\\d+'\n",
    "        calory = match6[0]\n",
    "\n",
    "        dict['calory'] = calory\n",
    "        match7 = re.findall(r'\\s+\\d*\\.?\\d+\\sgrams\\s+of\\s+\\w+', text)\n",
    "        for snippet in match7:\n",
    "            words = snippet.split('grams of')\n",
    "            grams = words[0].strip()\n",
    "            nutrition = words[1].strip()\n",
    "            dict[nutrition] = grams\n",
    "        \n",
    "        return dict\n",
    "    else:\n",
    "        return None"
   ]
  },
  {
   "cell_type": "markdown",
   "metadata": {},
   "source": [
    "# 각 푸드 웹페이지 visit"
   ]
  },
  {
   "cell_type": "code",
   "execution_count": 30,
   "metadata": {},
   "outputs": [],
   "source": [
    "def get_information1(idx, name, link):\n",
    "    dict = {}\n",
    "    dict['idx'] = idx\n",
    "    dict['name'] = name\n",
    "    dict['link'] = link\n",
    "\n",
    "    page_type_2_xpath = f\"//h2[text()='Overview']/following-sibling::table[1]//tr\"\n",
    "\n",
    "    try:\n",
    "        tr_elements_by_overview = driver.find_elements(By.XPATH, page_type_2_xpath)\n",
    "        if len(tr_elements_by_overview) > 0:\n",
    "            print(f'Type 2 : {idx} {name}')\n",
    "            for tr_element in tr_elements_by_overview:\n",
    "                td_elements = tr_element.find_elements(By.TAG_NAME, 'td')\n",
    "                for td_element in td_elements:\n",
    "                    if td_element.text == 'Glycemic index':\n",
    "                        gi = td_element.find_element(By.XPATH, \"./following-sibling::td[1]\").text\n",
    "                        dict['GI'] = gi\n",
    "                    elif td_element.text == 'Glycemic load':\n",
    "                        gl = td_element.find_element(By.XPATH, \"./following-sibling::td[1]\").text\n",
    "                        dict['GL'] = gl\n",
    "\n",
    "            xpath = f\"//h2[contains(text(), 'Nutrition Facts')]/following-sibling::table[1]//tr\"\n",
    "            tr_elements = driver.find_elements(By.XPATH, xpath)\n",
    "            for tr_element in tr_elements:\n",
    "                td_elements = tr_element.find_elements(By.TAG_NAME, 'td')\n",
    "                if len(td_elements) > 1:\n",
    "                    # 마지막 괄호와 괄호 안의 내용 제거\n",
    "                    nutrition = re.sub(r\"\\s*\\([^)]*\\)$\", '', td_elements[0].text.strip())\n",
    "                    nutrition = nutrition.lower().strip()\n",
    "                    if nutrition == 'calories':\n",
    "                        nutrition = 'calory'\n",
    "                    \n",
    "                    value = td_elements[1].text.strip()\n",
    "                    dict[nutrition] = value\n",
    "        else:\n",
    "            h2_elements_type1 = driver.find_elements(By.CSS_SELECTOR, 'h2.wp-block-heading')\n",
    "            for idx, h2_element in enumerate(h2_elements_type1):\n",
    "                paragraph = h2_element.find_element(By.XPATH, \"./following-sibling::p[1]\")\n",
    "\n",
    "                if idx == 0: # GI\n",
    "                    find_gi_from_page_type1(dict, paragraph.text)\n",
    "                elif idx == 1: # GL\n",
    "                    find_gl_from_page_type1(dict, paragraph.text)\n",
    "                elif idx == 2:\n",
    "                    find_nutrition_from_page_type1(dict, paragraph.text)\n",
    "    except Exception as e:\n",
    "        print(e)\n",
    "        traceback.print_exc() # 전체 오류 내역 출력하기\n",
    "\n",
    "    return dict"
   ]
  },
  {
   "cell_type": "code",
   "execution_count": 29,
   "metadata": {},
   "outputs": [
    {
     "name": "stdout",
     "output_type": "stream",
     "text": [
      "Type 2 : 21 Banana\n",
      "Type 2 : 27 Basmati Rice\n",
      "Type 2 : 49 Brown rice\n",
      "Type 2 : 139 Egg\n",
      "Type 2 : 175 Green apple\n",
      "\n",
      "\n",
      "list index out of range\n"
     ]
    },
    {
     "name": "stderr",
     "output_type": "stream",
     "text": [
      "Traceback (most recent call last):\n",
      "  File \"C:\\Users\\Kim\\AppData\\Local\\Temp\\ipykernel_22816\\2710307411.py\", line 46, in get_information1\n",
      "    find_nutrition_from_page_type1(dict, paragraph.text)\n",
      "    ~~~~~~~~~~~~~~~~~~~~~~~~~~~~~~^^^^^^^^^^^^^^^^^^^^^^\n",
      "  File \"C:\\Users\\Kim\\AppData\\Local\\Temp\\ipykernel_22816\\2603213502.py\", line 4, in find_nutrition_from_page_type1\n",
      "    match6 = re.findall(r'\\d*\\.?\\d+', match5[0]) # r'-?\\d*\\.?\\d+'\n",
      "                                      ~~~~~~^^^\n",
      "IndexError: list index out of range\n"
     ]
    },
    {
     "name": "stdout",
     "output_type": "stream",
     "text": [
      "\n",
      "\n",
      "list index out of range\n"
     ]
    },
    {
     "name": "stderr",
     "output_type": "stream",
     "text": [
      "Traceback (most recent call last):\n",
      "  File \"C:\\Users\\Kim\\AppData\\Local\\Temp\\ipykernel_22816\\2710307411.py\", line 46, in get_information1\n",
      "    find_nutrition_from_page_type1(dict, paragraph.text)\n",
      "    ~~~~~~~~~~~~~~~~~~~~~~~~~~~~~~^^^^^^^^^^^^^^^^^^^^^^\n",
      "  File \"C:\\Users\\Kim\\AppData\\Local\\Temp\\ipykernel_22816\\2603213502.py\", line 4, in find_nutrition_from_page_type1\n",
      "    match6 = re.findall(r'\\d*\\.?\\d+', match5[0]) # r'-?\\d*\\.?\\d+'\n",
      "                                      ~~~~~~^^^\n",
      "IndexError: list index out of range\n"
     ]
    },
    {
     "name": "stdout",
     "output_type": "stream",
     "text": [
      "Type 2 : 468 Pineapple\n"
     ]
    }
   ],
   "source": [
    "result_information = []\n",
    "\n",
    "for food in food_list:\n",
    "    food_idx = food[0]\n",
    "    food_name = food[1]\n",
    "    food_link = food[2]\n",
    "            \n",
    "    # visit\n",
    "    driver.get(food_link)\n",
    "\n",
    "    # visit\n",
    "    dict = get_information1(food_idx, food_name, food_link)\n",
    "    if (len(dict) > 3):\n",
    "        result_information.append(dict)\n",
    "    \n",
    "    time.sleep(2) # 페이지 쓰로틀링"
   ]
  },
  {
   "cell_type": "code",
   "execution_count": 31,
   "metadata": {},
   "outputs": [
    {
     "name": "stdout",
     "output_type": "stream",
     "text": [
      "589\n",
      "483\n",
      "106\n"
     ]
    }
   ],
   "source": [
    "# 589개 페이지 중에서 483개의 페이지에서 정보를 가져왔고 106개는 파싱 실패\n",
    "print(len(food_list))\n",
    "print(len(result_information))\n",
    "print(len(food_list) - len(result_information))"
   ]
  },
  {
   "cell_type": "code",
   "execution_count": null,
   "metadata": {},
   "outputs": [],
   "source": [
    "# 파싱 실패한 106개의 페이지를 출력\n",
    "for food in food_list:\n",
    "    idx = food[0]\n",
    "    try:\n",
    "        # 리스트 컴프리헨션으로 검색\n",
    "        result = [dict for dict in result_information if dict['idx'] == idx][0]\n",
    "    except Exception as e:\n",
    "        print(food)"
   ]
  },
  {
   "cell_type": "code",
   "execution_count": 33,
   "metadata": {},
   "outputs": [],
   "source": [
    "# 106개의 파싱 실패 페이지를 위한 파서 함수\n",
    "def get_information2(idx, name, link):\n",
    "    dict = {}\n",
    "    dict['idx'] = idx\n",
    "    dict['name'] = name\n",
    "    dict['link'] = link\n",
    "\n",
    "    page_type_3_xpath = \"//hr[contains(@class, 'wp-block-separator') and contains(@class, 'has-alpha-channel-opacity')]/preceding-sibling::p[1]\"\n",
    "\n",
    "    try:\n",
    "        paragraph = driver.find_element(By.XPATH, page_type_3_xpath)\n",
    "        sentences = paragraph.text.split('. ')\n",
    "        for text in sentences:\n",
    "            if text.find('(GI)') > -1:\n",
    "                find_gi_from_page_type1(dict, text)\n",
    "            elif text.find('(GL)') > -1:\n",
    "                find_gl_from_page_type1(dict, text)\n",
    "        \n",
    "        tr_elements = paragraph.find_elements(By.XPATH, \"//hr[contains(@class, 'wp-block-separator') and contains(@class, 'has-alpha-channel-opacity')]/following-sibling::table[1]//tr\")\n",
    "        if tr_elements[0].text.find('Nutrition Facts') > -1:\n",
    "            for tr_element in tr_elements:\n",
    "                td_elements = tr_element.find_elements(By.TAG_NAME, 'td')\n",
    "                if len(td_elements) > 1:\n",
    "                    # 마지막 괄호와 괄호 안의 내용 제거\n",
    "                    nutrition = re.sub(r\"\\s*\\([^)]*\\)$\", '', td_elements[0].text.split(' ')[0].strip())\n",
    "                    nutrition = nutrition.lower().strip()\n",
    "                    if nutrition == 'calories':\n",
    "                        nutrition = 'calory'\n",
    "                    \n",
    "                    value = td_elements[1].text.strip()\n",
    "                    dict[nutrition] = value\n",
    "    except Exception as e:\n",
    "        print(e)\n",
    "        traceback.print_exc() # 전체 오류 내역 출력하기\n",
    "\n",
    "    return dict"
   ]
  },
  {
   "cell_type": "code",
   "execution_count": 34,
   "metadata": {},
   "outputs": [],
   "source": [
    "failed_list = []\n",
    "\n",
    "for food in food_list:\n",
    "    food_idx = food[0]\n",
    "\n",
    "    try:\n",
    "        # 리스트 컴프리헨션으로 검색\n",
    "        result = [dict for dict in result_information if dict['idx'] == food_idx][0]\n",
    "    except Exception as e:\n",
    "        food_name = food[1]\n",
    "        food_link = food[2]\n",
    "\n",
    "        driver.get(food_link)\n",
    "        \n",
    "        # visit\n",
    "        dict = get_information2(food_idx, food_name, food_link)\n",
    "        failed_list.append(dict)\n",
    "\n",
    "        time.sleep(2) # 페이지 쓰로틀링"
   ]
  },
  {
   "cell_type": "code",
   "execution_count": 38,
   "metadata": {},
   "outputs": [
    {
     "name": "stdout",
     "output_type": "stream",
     "text": [
      "589\n",
      "483\n",
      "106\n"
     ]
    }
   ],
   "source": [
    "print(len(food_list))\n",
    "print(len(result_information))\n",
    "print(len(failed_list))"
   ]
  },
  {
   "cell_type": "code",
   "execution_count": 41,
   "metadata": {},
   "outputs": [
    {
     "name": "stdout",
     "output_type": "stream",
     "text": [
      "589\n",
      "483\n",
      "106\n",
      "589\n"
     ]
    }
   ],
   "source": [
    "# result_information의 복사본을 만들고 여기에 failed_list를 추가\n",
    "final_result = copy.deepcopy(result_information)\n",
    "final_result.extend(failed_list)\n",
    "\n",
    "print(len(food_list))\n",
    "print(len(result_information))\n",
    "print(len(failed_list))\n",
    "print(len(final_result))"
   ]
  },
  {
   "cell_type": "code",
   "execution_count": 42,
   "metadata": {},
   "outputs": [],
   "source": [
    "# final_result 데이터를 idx로 정렬\n",
    "sorted_list = sorted(final_result, key=lambda x: x['idx'])"
   ]
  },
  {
   "cell_type": "code",
   "execution_count": null,
   "metadata": {},
   "outputs": [],
   "source": [
    "df2 = pd.DataFrame(sorted_list)\n",
    "df2.to_csv('data/Nutrition_beta2.csv', encoding='utf-8', index=False)\n",
    "df2.to_excel('data/Nutrition_beta2.xlsx', index=False)"
   ]
  },
  {
   "cell_type": "code",
   "execution_count": 44,
   "metadata": {},
   "outputs": [],
   "source": [
    "driver.quit()"
   ]
  },
  {
   "cell_type": "markdown",
   "metadata": {},
   "source": [
    "# 부분적으로 에러난 항목들"
   ]
  },
  {
   "cell_type": "code",
   "execution_count": null,
   "metadata": {},
   "outputs": [],
   "source": [
    "# data 디렉토리 밑에 만들어진 csv 파일을 열어보면\n",
    "# idx 가 534, 545, 575 인 row 는 GI 와 GL 값을 제대로 파싱을 하지 못했다는 것을 알 수 있다.\n",
    "# 해당하는 데이터의 각 페이지를 직접 수동으로 들어가서 누락된 값을 csv 와 excel 파일에 채운다.\n",
    "\n",
    "df2[df2.idx.isin([534, 545, 575])]"
   ]
  },
  {
   "cell_type": "code",
   "execution_count": null,
   "metadata": {},
   "outputs": [],
   "source": [
    "# idx 가 587 인 row 는 name 에 특수문자(“baguette”) 가 있어서\n",
    "# 엑셀로 열었을 때 밀려보이므로 “ 와 ” 를 csv 와 excel 파일에서 지운다.\n",
    "\n",
    "df2[df2.idx.isin([587])]"
   ]
  }
 ],
 "metadata": {
  "kernelspec": {
   "display_name": ".venv",
   "language": "python",
   "name": "python3"
  },
  "language_info": {
   "codemirror_mode": {
    "name": "ipython",
    "version": 3
   },
   "file_extension": ".py",
   "mimetype": "text/x-python",
   "name": "python",
   "nbconvert_exporter": "python",
   "pygments_lexer": "ipython3",
   "version": "3.13.2"
  }
 },
 "nbformat": 4,
 "nbformat_minor": 2
}
