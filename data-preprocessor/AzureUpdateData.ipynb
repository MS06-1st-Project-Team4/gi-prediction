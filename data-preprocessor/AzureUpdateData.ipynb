{
 "cells": [
  {
   "cell_type": "markdown",
   "metadata": {},
   "source": [
    "# 필요한 라이브러리 패키지 설치"
   ]
  },
  {
   "cell_type": "code",
   "execution_count": 4,
   "metadata": {},
   "outputs": [
    {
     "name": "stdout",
     "output_type": "stream",
     "text": [
      "Collecting pymongo\n",
      "  Using cached pymongo-4.11.1-cp313-cp313-win_amd64.whl.metadata (22 kB)\n",
      "Collecting dnspython<3.0.0,>=1.16.0 (from pymongo)\n",
      "  Using cached dnspython-2.7.0-py3-none-any.whl.metadata (5.8 kB)\n",
      "Using cached pymongo-4.11.1-cp313-cp313-win_amd64.whl (932 kB)\n",
      "Using cached dnspython-2.7.0-py3-none-any.whl (313 kB)\n",
      "Installing collected packages: dnspython, pymongo\n",
      "Successfully installed dnspython-2.7.0 pymongo-4.11.1\n",
      "Note: you may need to restart the kernel to use updated packages.\n"
     ]
    }
   ],
   "source": [
    "%pip install pymongo"
   ]
  },
  {
   "cell_type": "code",
   "execution_count": 14,
   "metadata": {},
   "outputs": [],
   "source": [
    "import json\n",
    "import os\n",
    "from pymongo import MongoClient"
   ]
  },
  {
   "cell_type": "code",
   "execution_count": 10,
   "metadata": {},
   "outputs": [],
   "source": [
    "def get_db_endpoint_info(file_name):\n",
    "    with open(file_name) as f:\n",
    "        config = json.load(f)\n",
    "\n",
    "    return config['mongodb_user'], config['mongodb_key'], config['mongodb_endpoint']"
   ]
  },
  {
   "cell_type": "code",
   "execution_count": 12,
   "metadata": {},
   "outputs": [],
   "source": [
    "import warnings\n",
    "warnings.filterwarnings(\"ignore\", message=\"You appear to be connected to a CosmosDB cluster\")\n",
    "\n",
    "def connect_azure_cosmosdb(user, key, endpoint):\n",
    "    client = MongoClient(f'mongodb+srv://{user}:{key}@{endpoint}')\n",
    "    db = client['team4']\n",
    "    coll = db['foods']\n",
    "    return coll"
   ]
  },
  {
   "cell_type": "code",
   "execution_count": null,
   "metadata": {},
   "outputs": [
    {
     "name": "stdout",
     "output_type": "stream",
     "text": [
      "[{'_id': ObjectId('67b6d8b9ec5d39e2dca738f0'), 'NO': 2, 'name': '훈제오리', 'calory': 318.86, 'proteins': 17.22, 'fats': 25.63, 'carbohydrates': 4.83, 'monosaccharide': 0.11, 'GI_Class': 1}]\n"
     ]
    }
   ],
   "source": [
    "user, key, endpoint = get_db_endpoint_info('./config.json')\n",
    "coll = connect_azure_cosmosdb(user, key, endpoint)\n",
    "response = coll.find({'name':'훈제오리'})\n",
    "result = list(response)\n",
    "print(result)"
   ]
  },
  {
   "cell_type": "code",
   "execution_count": 21,
   "metadata": {},
   "outputs": [
    {
     "data": {
      "text/html": [
       "<div>\n",
       "<style scoped>\n",
       "    .dataframe tbody tr th:only-of-type {\n",
       "        vertical-align: middle;\n",
       "    }\n",
       "\n",
       "    .dataframe tbody tr th {\n",
       "        vertical-align: top;\n",
       "    }\n",
       "\n",
       "    .dataframe thead th {\n",
       "        text-align: right;\n",
       "    }\n",
       "</style>\n",
       "<table border=\"1\" class=\"dataframe\">\n",
       "  <thead>\n",
       "    <tr style=\"text-align: right;\">\n",
       "      <th></th>\n",
       "      <th>NO</th>\n",
       "      <th>name</th>\n",
       "      <th>calory</th>\n",
       "      <th>proteins</th>\n",
       "      <th>fats</th>\n",
       "      <th>carbohydrates</th>\n",
       "      <th>monosaccharide</th>\n",
       "      <th>GI_Class</th>\n",
       "      <th>category</th>\n",
       "      <th>dietary_fiber</th>\n",
       "    </tr>\n",
       "  </thead>\n",
       "  <tbody>\n",
       "    <tr>\n",
       "      <th>0</th>\n",
       "      <td>1</td>\n",
       "      <td>닭갈비</td>\n",
       "      <td>148.90</td>\n",
       "      <td>11.48</td>\n",
       "      <td>6.45</td>\n",
       "      <td>11.22</td>\n",
       "      <td>5.3</td>\n",
       "      <td>0</td>\n",
       "      <td>meat</td>\n",
       "      <td>0.7</td>\n",
       "    </tr>\n",
       "    <tr>\n",
       "      <th>1</th>\n",
       "      <td>2</td>\n",
       "      <td>훈제오리</td>\n",
       "      <td>318.86</td>\n",
       "      <td>17.22</td>\n",
       "      <td>25.63</td>\n",
       "      <td>4.83</td>\n",
       "      <td>0.11</td>\n",
       "      <td>1</td>\n",
       "      <td>meat</td>\n",
       "      <td>0.0</td>\n",
       "    </tr>\n",
       "    <tr>\n",
       "      <th>2</th>\n",
       "      <td>3</td>\n",
       "      <td>김치국</td>\n",
       "      <td>19.78</td>\n",
       "      <td>1.2</td>\n",
       "      <td>0.62</td>\n",
       "      <td>2.33</td>\n",
       "      <td>0.64</td>\n",
       "      <td>0</td>\n",
       "      <td>soup</td>\n",
       "      <td>1.2</td>\n",
       "    </tr>\n",
       "  </tbody>\n",
       "</table>\n",
       "</div>"
      ],
      "text/plain": [
       "   NO  name  calory proteins   fats carbohydrates monosaccharide  GI_Class  \\\n",
       "0   1   닭갈비  148.90    11.48   6.45         11.22            5.3         0   \n",
       "1   2  훈제오리  318.86    17.22  25.63          4.83           0.11         1   \n",
       "2   3   김치국   19.78      1.2   0.62          2.33           0.64         0   \n",
       "\n",
       "  category  dietary_fiber  \n",
       "0     meat            0.7  \n",
       "1     meat            0.0  \n",
       "2     soup            1.2  "
      ]
     },
     "execution_count": 21,
     "metadata": {},
     "output_type": "execute_result"
    }
   ],
   "source": [
    "import pandas as pd\n",
    "\n",
    "data_directory = './data'\n",
    "input_file_name = 'food_data_calibrated 4.csv'\n",
    "output_file_name = 'food_data_calibrated 4.json'\n",
    "\n",
    "df = pd.read_csv(os.path.join(data_directory, input_file_name))\n",
    "df.head(3)"
   ]
  },
  {
   "cell_type": "code",
   "execution_count": 23,
   "metadata": {},
   "outputs": [],
   "source": [
    "df.to_json(os.path.join(data_directory, output_file_name), orient='records', indent=4)"
   ]
  },
  {
   "cell_type": "markdown",
   "metadata": {},
   "source": [
    "# json 파일을 확인해본다."
   ]
  },
  {
   "cell_type": "code",
   "execution_count": 29,
   "metadata": {},
   "outputs": [],
   "source": [
    "import json\n",
    "\n",
    "with open(os.path.join(data_directory, output_file_name), 'r') as f:\n",
    "    json_data = json.load(f)"
   ]
  },
  {
   "cell_type": "markdown",
   "metadata": {},
   "source": [
    "# 데이터 스토리지로 저장한다."
   ]
  },
  {
   "cell_type": "code",
   "execution_count": 32,
   "metadata": {},
   "outputs": [
    {
     "data": {
      "text/plain": [
       "InsertManyResult([ObjectId('67b8036b38cb606118e8df33'), ObjectId('67b8036b38cb606118e8df34'), ObjectId('67b8036b38cb606118e8df35'), ObjectId('67b8036b38cb606118e8df36'), ObjectId('67b8036b38cb606118e8df37'), ObjectId('67b8036b38cb606118e8df38'), ObjectId('67b8036b38cb606118e8df39'), ObjectId('67b8036b38cb606118e8df3a'), ObjectId('67b8036b38cb606118e8df3b'), ObjectId('67b8036b38cb606118e8df3c'), ObjectId('67b8036b38cb606118e8df3d'), ObjectId('67b8036b38cb606118e8df3e'), ObjectId('67b8036b38cb606118e8df3f'), ObjectId('67b8036b38cb606118e8df40'), ObjectId('67b8036b38cb606118e8df41'), ObjectId('67b8036b38cb606118e8df42'), ObjectId('67b8036b38cb606118e8df43'), ObjectId('67b8036b38cb606118e8df44'), ObjectId('67b8036b38cb606118e8df45'), ObjectId('67b8036b38cb606118e8df46'), ObjectId('67b8036b38cb606118e8df47'), ObjectId('67b8036b38cb606118e8df48'), ObjectId('67b8036b38cb606118e8df49'), ObjectId('67b8036b38cb606118e8df4a'), ObjectId('67b8036b38cb606118e8df4b'), ObjectId('67b8036b38cb606118e8df4c'), ObjectId('67b8036b38cb606118e8df4d'), ObjectId('67b8036b38cb606118e8df4e'), ObjectId('67b8036b38cb606118e8df4f'), ObjectId('67b8036b38cb606118e8df50'), ObjectId('67b8036b38cb606118e8df51'), ObjectId('67b8036b38cb606118e8df52'), ObjectId('67b8036b38cb606118e8df53'), ObjectId('67b8036b38cb606118e8df54'), ObjectId('67b8036b38cb606118e8df55'), ObjectId('67b8036b38cb606118e8df56'), ObjectId('67b8036b38cb606118e8df57'), ObjectId('67b8036b38cb606118e8df58'), ObjectId('67b8036b38cb606118e8df59'), ObjectId('67b8036b38cb606118e8df5a'), ObjectId('67b8036b38cb606118e8df5b'), ObjectId('67b8036b38cb606118e8df5c'), ObjectId('67b8036b38cb606118e8df5d'), ObjectId('67b8036b38cb606118e8df5e'), ObjectId('67b8036b38cb606118e8df5f'), ObjectId('67b8036b38cb606118e8df60'), ObjectId('67b8036b38cb606118e8df61'), ObjectId('67b8036b38cb606118e8df62'), ObjectId('67b8036b38cb606118e8df63'), ObjectId('67b8036b38cb606118e8df64'), ObjectId('67b8036b38cb606118e8df65'), ObjectId('67b8036b38cb606118e8df66'), ObjectId('67b8036b38cb606118e8df67'), ObjectId('67b8036b38cb606118e8df68'), ObjectId('67b8036b38cb606118e8df69'), ObjectId('67b8036b38cb606118e8df6a'), ObjectId('67b8036b38cb606118e8df6b'), ObjectId('67b8036b38cb606118e8df6c'), ObjectId('67b8036b38cb606118e8df6d'), ObjectId('67b8036b38cb606118e8df6e'), ObjectId('67b8036b38cb606118e8df6f'), ObjectId('67b8036b38cb606118e8df70'), ObjectId('67b8036b38cb606118e8df71'), ObjectId('67b8036b38cb606118e8df72'), ObjectId('67b8036b38cb606118e8df73'), ObjectId('67b8036b38cb606118e8df74'), ObjectId('67b8036b38cb606118e8df75'), ObjectId('67b8036b38cb606118e8df76'), ObjectId('67b8036b38cb606118e8df77'), ObjectId('67b8036b38cb606118e8df78'), ObjectId('67b8036b38cb606118e8df79'), ObjectId('67b8036b38cb606118e8df7a'), ObjectId('67b8036b38cb606118e8df7b'), ObjectId('67b8036b38cb606118e8df7c'), ObjectId('67b8036b38cb606118e8df7d'), ObjectId('67b8036b38cb606118e8df7e'), ObjectId('67b8036b38cb606118e8df7f'), ObjectId('67b8036b38cb606118e8df80'), ObjectId('67b8036b38cb606118e8df81'), ObjectId('67b8036b38cb606118e8df82'), ObjectId('67b8036b38cb606118e8df83'), ObjectId('67b8036b38cb606118e8df84'), ObjectId('67b8036b38cb606118e8df85'), ObjectId('67b8036b38cb606118e8df86'), ObjectId('67b8036b38cb606118e8df87'), ObjectId('67b8036b38cb606118e8df88'), ObjectId('67b8036b38cb606118e8df89'), ObjectId('67b8036b38cb606118e8df8a'), ObjectId('67b8036b38cb606118e8df8b'), ObjectId('67b8036b38cb606118e8df8c'), ObjectId('67b8036b38cb606118e8df8d'), ObjectId('67b8036b38cb606118e8df8e'), ObjectId('67b8036b38cb606118e8df8f'), ObjectId('67b8036b38cb606118e8df90'), ObjectId('67b8036b38cb606118e8df91'), ObjectId('67b8036b38cb606118e8df92'), ObjectId('67b8036b38cb606118e8df93'), ObjectId('67b8036b38cb606118e8df94'), ObjectId('67b8036b38cb606118e8df95'), ObjectId('67b8036b38cb606118e8df96'), ObjectId('67b8036b38cb606118e8df97'), ObjectId('67b8036b38cb606118e8df98'), ObjectId('67b8036b38cb606118e8df99'), ObjectId('67b8036b38cb606118e8df9a'), ObjectId('67b8036b38cb606118e8df9b'), ObjectId('67b8036b38cb606118e8df9c'), ObjectId('67b8036b38cb606118e8df9d'), ObjectId('67b8036b38cb606118e8df9e'), ObjectId('67b8036b38cb606118e8df9f'), ObjectId('67b8036b38cb606118e8dfa0'), ObjectId('67b8036b38cb606118e8dfa1'), ObjectId('67b8036b38cb606118e8dfa2'), ObjectId('67b8036b38cb606118e8dfa3'), ObjectId('67b8036b38cb606118e8dfa4'), ObjectId('67b8036b38cb606118e8dfa5'), ObjectId('67b8036b38cb606118e8dfa6'), ObjectId('67b8036b38cb606118e8dfa7'), ObjectId('67b8036b38cb606118e8dfa8'), ObjectId('67b8036b38cb606118e8dfa9'), ObjectId('67b8036b38cb606118e8dfaa'), ObjectId('67b8036b38cb606118e8dfab'), ObjectId('67b8036b38cb606118e8dfac'), ObjectId('67b8036b38cb606118e8dfad'), ObjectId('67b8036b38cb606118e8dfae'), ObjectId('67b8036b38cb606118e8dfaf'), ObjectId('67b8036b38cb606118e8dfb0'), ObjectId('67b8036b38cb606118e8dfb1'), ObjectId('67b8036b38cb606118e8dfb2'), ObjectId('67b8036b38cb606118e8dfb3'), ObjectId('67b8036b38cb606118e8dfb4'), ObjectId('67b8036b38cb606118e8dfb5'), ObjectId('67b8036b38cb606118e8dfb6'), ObjectId('67b8036b38cb606118e8dfb7'), ObjectId('67b8036b38cb606118e8dfb8'), ObjectId('67b8036b38cb606118e8dfb9'), ObjectId('67b8036b38cb606118e8dfba'), ObjectId('67b8036b38cb606118e8dfbb'), ObjectId('67b8036b38cb606118e8dfbc'), ObjectId('67b8036b38cb606118e8dfbd'), ObjectId('67b8036b38cb606118e8dfbe'), ObjectId('67b8036b38cb606118e8dfbf'), ObjectId('67b8036b38cb606118e8dfc0'), ObjectId('67b8036b38cb606118e8dfc1'), ObjectId('67b8036b38cb606118e8dfc2'), ObjectId('67b8036b38cb606118e8dfc3'), ObjectId('67b8036b38cb606118e8dfc4'), ObjectId('67b8036b38cb606118e8dfc5'), ObjectId('67b8036b38cb606118e8dfc6'), ObjectId('67b8036b38cb606118e8dfc7'), ObjectId('67b8036b38cb606118e8dfc8'), ObjectId('67b8036b38cb606118e8dfc9'), ObjectId('67b8036b38cb606118e8dfca'), ObjectId('67b8036b38cb606118e8dfcb'), ObjectId('67b8036b38cb606118e8dfcc'), ObjectId('67b8036b38cb606118e8dfcd'), ObjectId('67b8036b38cb606118e8dfce'), ObjectId('67b8036b38cb606118e8dfcf'), ObjectId('67b8036b38cb606118e8dfd0'), ObjectId('67b8036b38cb606118e8dfd1')], acknowledged=True)"
      ]
     },
     "execution_count": 32,
     "metadata": {},
     "output_type": "execute_result"
    }
   ],
   "source": [
    "coll.insert_many(json_data)"
   ]
  }
 ],
 "metadata": {
  "kernelspec": {
   "display_name": ".venv",
   "language": "python",
   "name": "python3"
  },
  "language_info": {
   "codemirror_mode": {
    "name": "ipython",
    "version": 3
   },
   "file_extension": ".py",
   "mimetype": "text/x-python",
   "name": "python",
   "nbconvert_exporter": "python",
   "pygments_lexer": "ipython3",
   "version": "3.13.2"
  }
 },
 "nbformat": 4,
 "nbformat_minor": 2
}
