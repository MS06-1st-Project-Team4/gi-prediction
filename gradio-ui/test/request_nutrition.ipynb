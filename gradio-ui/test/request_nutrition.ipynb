{
 "cells": [
  {
   "cell_type": "code",
   "execution_count": 1,
   "metadata": {},
   "outputs": [
    {
     "name": "stdout",
     "output_type": "stream",
     "text": [
      "Collecting pymongoNote: you may need to restart the kernel to use updated packages.\n",
      "\n",
      "  Using cached pymongo-4.11.1-cp313-cp313-win_amd64.whl.metadata (22 kB)\n",
      "Collecting dnspython<3.0.0,>=1.16.0 (from pymongo)\n",
      "  Using cached dnspython-2.7.0-py3-none-any.whl.metadata (5.8 kB)\n",
      "Using cached pymongo-4.11.1-cp313-cp313-win_amd64.whl (932 kB)\n",
      "Using cached dnspython-2.7.0-py3-none-any.whl (313 kB)\n",
      "Installing collected packages: dnspython, pymongo\n",
      "Successfully installed dnspython-2.7.0 pymongo-4.11.1\n"
     ]
    }
   ],
   "source": [
    "%pip install pymongo"
   ]
  },
  {
   "cell_type": "code",
   "execution_count": 2,
   "metadata": {},
   "outputs": [],
   "source": [
    "import json\n",
    "import os\n",
    "from pymongo import MongoClient"
   ]
  },
  {
   "cell_type": "code",
   "execution_count": 3,
   "metadata": {},
   "outputs": [],
   "source": [
    "def get_db_endpoint_info(file_name):\n",
    "    with open(file_name) as f:\n",
    "        config = json.load(f)\n",
    "\n",
    "    return config['mongodb_user'], config['mongodb_key'], config['mongodb_endpoint']"
   ]
  },
  {
   "cell_type": "code",
   "execution_count": 4,
   "metadata": {},
   "outputs": [],
   "source": [
    "import warnings\n",
    "warnings.filterwarnings(\"ignore\", message=\"You appear to be connected to a CosmosDB cluster\")\n",
    "\n",
    "def connect_azure_cosmosdb(user, key, endpoint):\n",
    "    client = MongoClient(f'mongodb+srv://{user}:{key}@{endpoint}')\n",
    "    db = client['team4']\n",
    "    coll = db['foods']\n",
    "    return coll"
   ]
  },
  {
   "cell_type": "code",
   "execution_count": 5,
   "metadata": {},
   "outputs": [
    {
     "name": "stdout",
     "output_type": "stream",
     "text": [
      "[{'_id': ObjectId('67b8036b38cb606118e8df34'), 'NO': 2, 'name': '훈제오리', 'calory': 318.86, 'proteins': '17.22', 'fats': '25.63', 'carbohydrates': '4.83', 'monosaccharide': '0.11', 'GI_Class': 1, 'category': 'meat', 'dietary_fiber': 0.0}]\n"
     ]
    }
   ],
   "source": [
    "user, key, endpoint = get_db_endpoint_info('./config.json')\n",
    "coll = connect_azure_cosmosdb(user, key, endpoint)\n",
    "response = coll.find({'name':'훈제오리'})\n",
    "result = list(response)\n",
    "print(result)"
   ]
  }
 ],
 "metadata": {
  "kernelspec": {
   "display_name": ".venv",
   "language": "python",
   "name": "python3"
  },
  "language_info": {
   "codemirror_mode": {
    "name": "ipython",
    "version": 3
   },
   "file_extension": ".py",
   "mimetype": "text/x-python",
   "name": "python",
   "nbconvert_exporter": "python",
   "pygments_lexer": "ipython3",
   "version": "3.13.2"
  }
 },
 "nbformat": 4,
 "nbformat_minor": 2
}
