{
 "cells": [
  {
   "cell_type": "code",
   "execution_count": 1,
   "metadata": {},
   "outputs": [
    {
     "name": "stdout",
     "output_type": "stream",
     "text": [
      "Requirement already satisfied: requests in d:\\study\\ms ai school\\projects\\gi-prediction\\gradio-ui\\.venv\\lib\\site-packages (2.32.3)\n",
      "Requirement already satisfied: charset-normalizer<4,>=2 in d:\\study\\ms ai school\\projects\\gi-prediction\\gradio-ui\\.venv\\lib\\site-packages (from requests) (3.4.1)\n",
      "Requirement already satisfied: idna<4,>=2.5 in d:\\study\\ms ai school\\projects\\gi-prediction\\gradio-ui\\.venv\\lib\\site-packages (from requests) (3.10)\n",
      "Requirement already satisfied: urllib3<3,>=1.21.1 in d:\\study\\ms ai school\\projects\\gi-prediction\\gradio-ui\\.venv\\lib\\site-packages (from requests) (2.3.0)\n",
      "Requirement already satisfied: certifi>=2017.4.17 in d:\\study\\ms ai school\\projects\\gi-prediction\\gradio-ui\\.venv\\lib\\site-packages (from requests) (2025.1.31)\n",
      "Note: you may need to restart the kernel to use updated packages.\n"
     ]
    }
   ],
   "source": [
    "%pip install requests"
   ]
  },
  {
   "cell_type": "code",
   "execution_count": 8,
   "metadata": {},
   "outputs": [],
   "source": [
    "import requests\n",
    "import json"
   ]
  },
  {
   "cell_type": "code",
   "execution_count": 9,
   "metadata": {},
   "outputs": [],
   "source": [
    "def get_mld_endpoint_info(file_name):\n",
    "    with open(file_name) as f:\n",
    "        config = json.load(f)\n",
    "\n",
    "    return config['mld_endpoint_v2'], config['mld_api_key_v2']"
   ]
  },
  {
   "cell_type": "code",
   "execution_count": 10,
   "metadata": {},
   "outputs": [],
   "source": [
    "def request_gi_prediction(data_list):\n",
    "    # endpoint\n",
    "    endpoint, api_key = get_mld_endpoint_info('./config.json')\n",
    "    headers = {\n",
    "        'Cache-Control': 'no-cache',\n",
    "        'Content-Type': 'application/json',\n",
    "        'Authorization': f'Bearer {api_key}'\n",
    "    }\n",
    "\n",
    "    # body\n",
    "    body = {\n",
    "        \"Inputs\": {\n",
    "            \"input1\": data_list\n",
    "        }\n",
    "    }\n",
    "\n",
    "    response = requests.post(endpoint, headers=headers, json=body)\n",
    "    if response.status_code == 200:\n",
    "        response_json = response.json()\n",
    "        # return response_json\n",
    "        return response_json['Results']['WebServiceOutput0']\n",
    "    else:\n",
    "        return ''"
   ]
  },
  {
   "cell_type": "code",
   "execution_count": 11,
   "metadata": {},
   "outputs": [],
   "source": [
    "input_data = [{\n",
    "              \"name\": \"Acorns\",\n",
    "              \"GI\": 25,\n",
    "              \"proteins\": 6,\n",
    "              \"carbohydrates\": 41,\n",
    "              \"fats\": 24,\n",
    "              \"monosaccharide\": 0.5,\n",
    "              \"category\": \"nuts_and_seeds\",\n",
    "              \"dietary fiber\": 9,\n",
    "              \"cooking_method\": \"raw\",\n",
    "              \"GI_Class\": 0\n",
    "            }]"
   ]
  },
  {
   "cell_type": "code",
   "execution_count": 12,
   "metadata": {},
   "outputs": [
    {
     "data": {
      "text/plain": [
       "[{'name': 'Acorns',\n",
       "  'GI': 25,\n",
       "  'proteins': 0.13043478260869565,\n",
       "  'carbohydrates': 0.41000000000000003,\n",
       "  'fats': 0.24,\n",
       "  'monosaccharide': 0.005,\n",
       "  'dietary fiber': 0.16981132075471697,\n",
       "  'category-bakery': 0.0,\n",
       "  'category-beverage': 0.0,\n",
       "  'category-bread': 0.0,\n",
       "  'category-condiment': 0.0,\n",
       "  'category-confectionery': 0.0,\n",
       "  'category-dairy': 0.0,\n",
       "  'category-dessert': 0.0,\n",
       "  'category-egg': 0.0,\n",
       "  'category-fruit': 0.0,\n",
       "  'category-fruit_spread': 0.0,\n",
       "  'category-grain_product': 0.0,\n",
       "  'category-grains': 0.0,\n",
       "  'category-herb': 0.0,\n",
       "  'category-legume': 0.0,\n",
       "  'category-meat': 0.0,\n",
       "  'category-meat_dish': 0.0,\n",
       "  'category-nuts_and_seeds': 1.0,\n",
       "  'category-oil': 0.0,\n",
       "  'category-other': 0.0,\n",
       "  'category-processed_meat': 0.0,\n",
       "  'category-seafood': 0.0,\n",
       "  'category-snack': 0.0,\n",
       "  'category-soup': 0.0,\n",
       "  'category-spice': 0.0,\n",
       "  'category-sweeteners': 0.0,\n",
       "  'category-vegetable': 0.0,\n",
       "  'cooking_method-baked': 0.0,\n",
       "  'cooking_method-boiled': 0.0,\n",
       "  'cooking_method-braised': 0.0,\n",
       "  'cooking_method-canned': 0.0,\n",
       "  'cooking_method-cooked': 0.0,\n",
       "  'cooking_method-fried': 0.0,\n",
       "  'cooking_method-grilled': 0.0,\n",
       "  'cooking_method-processed': 0.0,\n",
       "  'cooking_method-raw': 1.0,\n",
       "  'cooking_method-steamed': 0.0,\n",
       "  'GI_Class-0': 1.0,\n",
       "  'GI_Class-1': 0.0,\n",
       "  'GI_Class-2': 0.0,\n",
       "  'Scored Labels': 23.204491824668573}]"
      ]
     },
     "execution_count": 12,
     "metadata": {},
     "output_type": "execute_result"
    }
   ],
   "source": [
    "response_data = request_gi_prediction(input_data)\n",
    "response_data"
   ]
  },
  {
   "cell_type": "code",
   "execution_count": 13,
   "metadata": {},
   "outputs": [
    {
     "name": "stdout",
     "output_type": "stream",
     "text": [
      "23.204491824668573 25\n"
     ]
    }
   ],
   "source": [
    "for score_gi in response_data:\n",
    "    score = score_gi['Scored Labels']\n",
    "    gi = score_gi['GI']\n",
    "    \n",
    "    print(score, gi)"
   ]
  }
 ],
 "metadata": {
  "kernelspec": {
   "display_name": ".venv",
   "language": "python",
   "name": "python3"
  },
  "language_info": {
   "codemirror_mode": {
    "name": "ipython",
    "version": 3
   },
   "file_extension": ".py",
   "mimetype": "text/x-python",
   "name": "python",
   "nbconvert_exporter": "python",
   "pygments_lexer": "ipython3",
   "version": "3.13.2"
  }
 },
 "nbformat": 4,
 "nbformat_minor": 2
}
